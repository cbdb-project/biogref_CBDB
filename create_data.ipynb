{
  "cells": [
    {
      "cell_type": "code",
      "execution_count": 1,
      "metadata": {
        "id": "RjHo0QfWxNYe"
      },
      "outputs": [],
      "source": [
        "db_url = \"https://github.com/cbdb-project/cbdb_sqlite/raw/master/latest.7z\"\n",
        "sql_url = \"https://raw.githubusercontent.com/cbdb-project/biogref_CBDB/master/create_pd.sql\"\n",
        "db_filename = db_url.split(\"/\")[-1]"
      ]
    },
    {
      "cell_type": "code",
      "execution_count": 2,
      "metadata": {
        "id": "vvmbLXO1xwWh",
        "outputId": "f53fb16f-1b6f-4735-b45a-e5602bf80e62",
        "colab": {
          "base_uri": "https://localhost:8080/"
        }
      },
      "outputs": [
        {
          "output_type": "execute_result",
          "data": {
            "text/plain": [
              "('latest.7z', <http.client.HTTPMessage at 0x7f32976b3070>)"
            ]
          },
          "metadata": {},
          "execution_count": 2
        }
      ],
      "source": [
        "import urllib.request\n",
        "import os\n",
        "\n",
        "if os.path.isfile(db_filename):\n",
        "    os.remove(db_filename)\n",
        "\n",
        "if os.path.isfile(db_filename.split(\".\")[0] + \".db\"):\n",
        "    os.remove(db_filename)\n",
        "\n",
        "urllib.request.urlretrieve(db_url, db_filename)"
      ]
    },
    {
      "cell_type": "code",
      "execution_count": 3,
      "metadata": {
        "id": "tSHIkickADYb"
      },
      "outputs": [],
      "source": [
        "import requests\n",
        "\n",
        "response = requests.get(sql_url)\n",
        "sql_query = response.text"
      ]
    },
    {
      "cell_type": "code",
      "execution_count": 4,
      "metadata": {
        "id": "T0DHCNh3x4rC",
        "outputId": "754560c2-5b06-4f37-8eeb-fd39e0d119cf",
        "colab": {
          "base_uri": "https://localhost:8080/"
        }
      },
      "outputs": [
        {
          "output_type": "stream",
          "name": "stdout",
          "text": [
            "Looking in indexes: https://pypi.org/simple, https://us-python.pkg.dev/colab-wheels/public/simple/\n",
            "Collecting pyunpack\n",
            "  Downloading pyunpack-0.3-py2.py3-none-any.whl (4.1 kB)\n",
            "Collecting easyprocess (from pyunpack)\n",
            "  Downloading EasyProcess-1.1-py3-none-any.whl (8.7 kB)\n",
            "Collecting entrypoint2 (from pyunpack)\n",
            "  Downloading entrypoint2-1.1-py2.py3-none-any.whl (9.9 kB)\n",
            "Installing collected packages: entrypoint2, easyprocess, pyunpack\n",
            "Successfully installed easyprocess-1.1 entrypoint2-1.1 pyunpack-0.3\n",
            "Looking in indexes: https://pypi.org/simple, https://us-python.pkg.dev/colab-wheels/public/simple/\n",
            "Collecting patool\n",
            "  Downloading patool-1.12-py2.py3-none-any.whl (77 kB)\n",
            "\u001b[2K     \u001b[90m━━━━━━━━━━━━━━━━━━━━━━━━━━━━━━━━━━━━━━━━\u001b[0m \u001b[32m77.5/77.5 kB\u001b[0m \u001b[31m1.8 MB/s\u001b[0m eta \u001b[36m0:00:00\u001b[0m\n",
            "\u001b[?25hInstalling collected packages: patool\n",
            "Successfully installed patool-1.12\n"
          ]
        }
      ],
      "source": [
        "# Explode latest database file\n",
        "!pip install pyunpack\n",
        "!pip install patool\n",
        "from pyunpack import Archive\n",
        "Archive(db_filename).extractall(\".\")"
      ]
    },
    {
      "cell_type": "code",
      "execution_count": 5,
      "metadata": {
        "id": "f5_m8d2fx8cR"
      },
      "outputs": [],
      "source": [
        "# Create connection to database\n",
        "import sqlite3\n",
        "import pandas as pd\n",
        "global CONN\n",
        "database_file = os.path.basename(db_filename).split(\".\")[0]+\".db\"\n",
        "CONN = sqlite3.connect(database_file)"
      ]
    },
    {
      "cell_type": "code",
      "execution_count": 6,
      "metadata": {
        "id": "dYEKRwZgADYc",
        "outputId": "9a26734c-b22e-4631-f00a-95ace89dba2f",
        "colab": {
          "base_uri": "https://localhost:8080/"
        }
      },
      "outputs": [
        {
          "output_type": "stream",
          "name": "stdout",
          "text": [
            "SELECT BIOG_MAIN.c_personid as person_id, BIOG_MAIN.c_name_chn as person_name, \n",
            "CASE\n",
            "    WHEN BIOG_MAIN.c_female= 0 THEN '男'\n",
            "    WHEN BIOG_MAIN.c_female<> 0 THEN '女'\n",
            "END as gender,\n",
            "BIOG_MAIN.c_birthyear as born_year, BIOG_MAIN.c_deathyear as died_year, DYNASTIES.c_dynasty_chn as dynasty, ADDR_CODES.c_name_chn as jiguan\n",
            "FROM BIOG_MAIN LEFT JOIN ADDR_CODES ON BIOG_MAIN.c_index_addr_id = ADDR_CODES.c_addr_id LEFT JOIN DYNASTIES ON DYNASTIES.c_dy = BIOG_MAIN.c_dy\n",
            "WHERE c_personid != 0\n"
          ]
        }
      ],
      "source": [
        "print(sql_query)"
      ]
    },
    {
      "cell_type": "code",
      "execution_count": 7,
      "metadata": {
        "id": "TCgPf2Cex-kV",
        "outputId": "5e7652b8-387e-486e-bb67-6c83df132f09",
        "colab": {
          "base_uri": "https://localhost:8080/",
          "height": 424
        }
      },
      "outputs": [
        {
          "output_type": "execute_result",
          "data": {
            "text/plain": [
              "        person_id person_name gender born_year died_year dynasty jiguan\n",
              "0               1          安惇      男      1042      1104       宋     渠江\n",
              "1               2          安邡      男                           宋     渠江\n",
              "2               3          安燾      男                           宋     開封\n",
              "3               4          查道      男       955      1018       宋     休寧\n",
              "4               5          查籥      男                           宋     江陵\n",
              "...           ...         ...    ...       ...       ...     ...    ...\n",
              "529554     570007     沈氏(金璐妻)      女                           清     山陰\n",
              "529555     570008    陸氏(張遵訓妻)      女                           清     山陰\n",
              "529556     570009         戴學連      男                           清     山陰\n",
              "529557     570010         潘恆貞      女                           清       \n",
              "529558     570011         潘嘉言      男                                   \n",
              "\n",
              "[529559 rows x 7 columns]"
            ],
            "text/html": [
              "\n",
              "  <div id=\"df-c33d54f3-8251-4167-ba18-46b05bf4b217\">\n",
              "    <div class=\"colab-df-container\">\n",
              "      <div>\n",
              "<style scoped>\n",
              "    .dataframe tbody tr th:only-of-type {\n",
              "        vertical-align: middle;\n",
              "    }\n",
              "\n",
              "    .dataframe tbody tr th {\n",
              "        vertical-align: top;\n",
              "    }\n",
              "\n",
              "    .dataframe thead th {\n",
              "        text-align: right;\n",
              "    }\n",
              "</style>\n",
              "<table border=\"1\" class=\"dataframe\">\n",
              "  <thead>\n",
              "    <tr style=\"text-align: right;\">\n",
              "      <th></th>\n",
              "      <th>person_id</th>\n",
              "      <th>person_name</th>\n",
              "      <th>gender</th>\n",
              "      <th>born_year</th>\n",
              "      <th>died_year</th>\n",
              "      <th>dynasty</th>\n",
              "      <th>jiguan</th>\n",
              "    </tr>\n",
              "  </thead>\n",
              "  <tbody>\n",
              "    <tr>\n",
              "      <th>0</th>\n",
              "      <td>1</td>\n",
              "      <td>安惇</td>\n",
              "      <td>男</td>\n",
              "      <td>1042</td>\n",
              "      <td>1104</td>\n",
              "      <td>宋</td>\n",
              "      <td>渠江</td>\n",
              "    </tr>\n",
              "    <tr>\n",
              "      <th>1</th>\n",
              "      <td>2</td>\n",
              "      <td>安邡</td>\n",
              "      <td>男</td>\n",
              "      <td></td>\n",
              "      <td></td>\n",
              "      <td>宋</td>\n",
              "      <td>渠江</td>\n",
              "    </tr>\n",
              "    <tr>\n",
              "      <th>2</th>\n",
              "      <td>3</td>\n",
              "      <td>安燾</td>\n",
              "      <td>男</td>\n",
              "      <td></td>\n",
              "      <td></td>\n",
              "      <td>宋</td>\n",
              "      <td>開封</td>\n",
              "    </tr>\n",
              "    <tr>\n",
              "      <th>3</th>\n",
              "      <td>4</td>\n",
              "      <td>查道</td>\n",
              "      <td>男</td>\n",
              "      <td>955</td>\n",
              "      <td>1018</td>\n",
              "      <td>宋</td>\n",
              "      <td>休寧</td>\n",
              "    </tr>\n",
              "    <tr>\n",
              "      <th>4</th>\n",
              "      <td>5</td>\n",
              "      <td>查籥</td>\n",
              "      <td>男</td>\n",
              "      <td></td>\n",
              "      <td></td>\n",
              "      <td>宋</td>\n",
              "      <td>江陵</td>\n",
              "    </tr>\n",
              "    <tr>\n",
              "      <th>...</th>\n",
              "      <td>...</td>\n",
              "      <td>...</td>\n",
              "      <td>...</td>\n",
              "      <td>...</td>\n",
              "      <td>...</td>\n",
              "      <td>...</td>\n",
              "      <td>...</td>\n",
              "    </tr>\n",
              "    <tr>\n",
              "      <th>529554</th>\n",
              "      <td>570007</td>\n",
              "      <td>沈氏(金璐妻)</td>\n",
              "      <td>女</td>\n",
              "      <td></td>\n",
              "      <td></td>\n",
              "      <td>清</td>\n",
              "      <td>山陰</td>\n",
              "    </tr>\n",
              "    <tr>\n",
              "      <th>529555</th>\n",
              "      <td>570008</td>\n",
              "      <td>陸氏(張遵訓妻)</td>\n",
              "      <td>女</td>\n",
              "      <td></td>\n",
              "      <td></td>\n",
              "      <td>清</td>\n",
              "      <td>山陰</td>\n",
              "    </tr>\n",
              "    <tr>\n",
              "      <th>529556</th>\n",
              "      <td>570009</td>\n",
              "      <td>戴學連</td>\n",
              "      <td>男</td>\n",
              "      <td></td>\n",
              "      <td></td>\n",
              "      <td>清</td>\n",
              "      <td>山陰</td>\n",
              "    </tr>\n",
              "    <tr>\n",
              "      <th>529557</th>\n",
              "      <td>570010</td>\n",
              "      <td>潘恆貞</td>\n",
              "      <td>女</td>\n",
              "      <td></td>\n",
              "      <td></td>\n",
              "      <td>清</td>\n",
              "      <td></td>\n",
              "    </tr>\n",
              "    <tr>\n",
              "      <th>529558</th>\n",
              "      <td>570011</td>\n",
              "      <td>潘嘉言</td>\n",
              "      <td>男</td>\n",
              "      <td></td>\n",
              "      <td></td>\n",
              "      <td></td>\n",
              "      <td></td>\n",
              "    </tr>\n",
              "  </tbody>\n",
              "</table>\n",
              "<p>529559 rows × 7 columns</p>\n",
              "</div>\n",
              "      <button class=\"colab-df-convert\" onclick=\"convertToInteractive('df-c33d54f3-8251-4167-ba18-46b05bf4b217')\"\n",
              "              title=\"Convert this dataframe to an interactive table.\"\n",
              "              style=\"display:none;\">\n",
              "        \n",
              "  <svg xmlns=\"http://www.w3.org/2000/svg\" height=\"24px\"viewBox=\"0 0 24 24\"\n",
              "       width=\"24px\">\n",
              "    <path d=\"M0 0h24v24H0V0z\" fill=\"none\"/>\n",
              "    <path d=\"M18.56 5.44l.94 2.06.94-2.06 2.06-.94-2.06-.94-.94-2.06-.94 2.06-2.06.94zm-11 1L8.5 8.5l.94-2.06 2.06-.94-2.06-.94L8.5 2.5l-.94 2.06-2.06.94zm10 10l.94 2.06.94-2.06 2.06-.94-2.06-.94-.94-2.06-.94 2.06-2.06.94z\"/><path d=\"M17.41 7.96l-1.37-1.37c-.4-.4-.92-.59-1.43-.59-.52 0-1.04.2-1.43.59L10.3 9.45l-7.72 7.72c-.78.78-.78 2.05 0 2.83L4 21.41c.39.39.9.59 1.41.59.51 0 1.02-.2 1.41-.59l7.78-7.78 2.81-2.81c.8-.78.8-2.07 0-2.86zM5.41 20L4 18.59l7.72-7.72 1.47 1.35L5.41 20z\"/>\n",
              "  </svg>\n",
              "      </button>\n",
              "      \n",
              "  <style>\n",
              "    .colab-df-container {\n",
              "      display:flex;\n",
              "      flex-wrap:wrap;\n",
              "      gap: 12px;\n",
              "    }\n",
              "\n",
              "    .colab-df-convert {\n",
              "      background-color: #E8F0FE;\n",
              "      border: none;\n",
              "      border-radius: 50%;\n",
              "      cursor: pointer;\n",
              "      display: none;\n",
              "      fill: #1967D2;\n",
              "      height: 32px;\n",
              "      padding: 0 0 0 0;\n",
              "      width: 32px;\n",
              "    }\n",
              "\n",
              "    .colab-df-convert:hover {\n",
              "      background-color: #E2EBFA;\n",
              "      box-shadow: 0px 1px 2px rgba(60, 64, 67, 0.3), 0px 1px 3px 1px rgba(60, 64, 67, 0.15);\n",
              "      fill: #174EA6;\n",
              "    }\n",
              "\n",
              "    [theme=dark] .colab-df-convert {\n",
              "      background-color: #3B4455;\n",
              "      fill: #D2E3FC;\n",
              "    }\n",
              "\n",
              "    [theme=dark] .colab-df-convert:hover {\n",
              "      background-color: #434B5C;\n",
              "      box-shadow: 0px 1px 3px 1px rgba(0, 0, 0, 0.15);\n",
              "      filter: drop-shadow(0px 1px 2px rgba(0, 0, 0, 0.3));\n",
              "      fill: #FFFFFF;\n",
              "    }\n",
              "  </style>\n",
              "\n",
              "      <script>\n",
              "        const buttonEl =\n",
              "          document.querySelector('#df-c33d54f3-8251-4167-ba18-46b05bf4b217 button.colab-df-convert');\n",
              "        buttonEl.style.display =\n",
              "          google.colab.kernel.accessAllowed ? 'block' : 'none';\n",
              "\n",
              "        async function convertToInteractive(key) {\n",
              "          const element = document.querySelector('#df-c33d54f3-8251-4167-ba18-46b05bf4b217');\n",
              "          const dataTable =\n",
              "            await google.colab.kernel.invokeFunction('convertToInteractive',\n",
              "                                                     [key], {});\n",
              "          if (!dataTable) return;\n",
              "\n",
              "          const docLinkHtml = 'Like what you see? Visit the ' +\n",
              "            '<a target=\"_blank\" href=https://colab.research.google.com/notebooks/data_table.ipynb>data table notebook</a>'\n",
              "            + ' to learn more about interactive tables.';\n",
              "          element.innerHTML = '';\n",
              "          dataTable['output_type'] = 'display_data';\n",
              "          await google.colab.output.renderOutput(dataTable, element);\n",
              "          const docLink = document.createElement('div');\n",
              "          docLink.innerHTML = docLinkHtml;\n",
              "          element.appendChild(docLink);\n",
              "        }\n",
              "      </script>\n",
              "    </div>\n",
              "  </div>\n",
              "  "
            ]
          },
          "metadata": {},
          "execution_count": 7
        }
      ],
      "source": [
        "data_pd = pd.read_sql_query(sql_query, CONN).drop_duplicates()\n",
        "data_pd['born_year'] = data_pd['born_year'].fillna(9999).astype(int)\n",
        "data_pd['died_year'] = data_pd['died_year'].fillna(9999).astype(int)\n",
        "data_pd = data_pd.replace({'\\\",\\n': ''}, regex=True).replace({'.*未詳.*': ''}, regex=True).replace(9999,'')\n",
        "data_pd.fillna('')"
      ]
    },
    {
      "cell_type": "code",
      "execution_count": 11,
      "metadata": {
        "id": "N3tRcU0dADYd"
      },
      "outputs": [],
      "source": [
        "data_pd.to_csv('data.csv', index=True, index_label='primary_id')\n",
        "if os.path.isfile(db_filename):\n",
        "    os.remove(db_filename)\n",
        "\n",
        "if os.path.isfile(db_filename.split(\".\")[0] + \".db\"):\n",
        "    os.remove(db_filename.split(\".\")[0] + \".db\")"
      ]
    }
  ],
  "metadata": {
    "colab": {
      "provenance": []
    },
    "kernelspec": {
      "display_name": "Python 3",
      "name": "python3"
    },
    "language_info": {
      "codemirror_mode": {
        "name": "ipython",
        "version": 3
      },
      "file_extension": ".py",
      "mimetype": "text/x-python",
      "name": "python",
      "nbconvert_exporter": "python",
      "pygments_lexer": "ipython3",
      "version": "3.9.7"
    }
  },
  "nbformat": 4,
  "nbformat_minor": 0
}