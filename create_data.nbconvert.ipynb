{
 "cells": [
  {
   "cell_type": "code",
   "execution_count": 1,
   "metadata": {
    "execution": {
     "iopub.execute_input": "2024-04-16T22:20:46.162985Z",
     "iopub.status.busy": "2024-04-16T22:20:46.162623Z",
     "iopub.status.idle": "2024-04-16T22:20:46.168081Z",
     "shell.execute_reply": "2024-04-16T22:20:46.167638Z"
    },
    "id": "RjHo0QfWxNYe"
   },
   "outputs": [],
   "source": [
    "db_url = \"https://huggingface.co/datasets/cbdb/cbdb-sqlite/resolve/main/latest.7z?download=true\"\n",
    "sql_url = \"https://raw.githubusercontent.com/cbdb-project/biogref_CBDB/master/create_pd.sql\"\n",
    "db_filename = db_url.split(\"/\")[-1]"
   ]
  },
  {
   "cell_type": "code",
   "execution_count": 2,
   "metadata": {
    "colab": {
     "base_uri": "https://localhost:8080/"
    },
    "execution": {
     "iopub.execute_input": "2024-04-16T22:20:46.170116Z",
     "iopub.status.busy": "2024-04-16T22:20:46.169944Z",
     "iopub.status.idle": "2024-04-16T22:20:46.754286Z",
     "shell.execute_reply": "2024-04-16T22:20:46.753693Z"
    },
    "id": "vvmbLXO1xwWh",
    "outputId": "f53fb16f-1b6f-4735-b45a-e5602bf80e62"
   },
   "outputs": [
    {
     "data": {
      "text/plain": [
       "('latest.7z?download=true', <http.client.HTTPMessage at 0x7f6c2c19ee50>)"
      ]
     },
     "execution_count": 2,
     "metadata": {},
     "output_type": "execute_result"
    }
   ],
   "source": [
    "import urllib.request\n",
    "import os\n",
    "\n",
    "if os.path.isfile(db_filename):\n",
    "    os.remove(db_filename)\n",
    "\n",
    "if os.path.isfile(db_filename.split(\".\")[0] + \".db\"):\n",
    "    os.remove(db_filename.split(\".\")[0] + \".db\")\n",
    "\n",
    "urllib.request.urlretrieve(db_url, db_filename)"
   ]
  },
  {
   "cell_type": "code",
   "execution_count": 3,
   "metadata": {
    "execution": {
     "iopub.execute_input": "2024-04-16T22:20:46.788667Z",
     "iopub.status.busy": "2024-04-16T22:20:46.788291Z",
     "iopub.status.idle": "2024-04-16T22:20:46.923126Z",
     "shell.execute_reply": "2024-04-16T22:20:46.922584Z"
    },
    "id": "tSHIkickADYb"
   },
   "outputs": [],
   "source": [
    "import requests\n",
    "\n",
    "response = requests.get(sql_url)\n",
    "sql_query = response.text"
   ]
  },
  {
   "cell_type": "code",
   "execution_count": 4,
   "metadata": {
    "colab": {
     "base_uri": "https://localhost:8080/"
    },
    "execution": {
     "iopub.execute_input": "2024-04-16T22:20:46.925577Z",
     "iopub.status.busy": "2024-04-16T22:20:46.925214Z",
     "iopub.status.idle": "2024-04-16T22:20:59.597449Z",
     "shell.execute_reply": "2024-04-16T22:20:59.596768Z"
    },
    "id": "T0DHCNh3x4rC",
    "outputId": "754560c2-5b06-4f37-8eeb-fd39e0d119cf"
   },
   "outputs": [
    {
     "name": "stdout",
     "output_type": "stream",
     "text": [
      "Collecting pyunpack\r\n"
     ]
    },
    {
     "name": "stdout",
     "output_type": "stream",
     "text": [
      "  Downloading pyunpack-0.3-py2.py3-none-any.whl.metadata (863 bytes)\r\n"
     ]
    },
    {
     "name": "stdout",
     "output_type": "stream",
     "text": [
      "Collecting easyprocess (from pyunpack)\r\n",
      "  Downloading EasyProcess-1.1-py3-none-any.whl.metadata (855 bytes)\r\n",
      "Collecting entrypoint2 (from pyunpack)\r\n",
      "  Downloading entrypoint2-1.1-py2.py3-none-any.whl.metadata (1.0 kB)\r\n",
      "Downloading pyunpack-0.3-py2.py3-none-any.whl (4.1 kB)\r\n",
      "Downloading EasyProcess-1.1-py3-none-any.whl (8.7 kB)\r\n"
     ]
    },
    {
     "name": "stdout",
     "output_type": "stream",
     "text": [
      "Downloading entrypoint2-1.1-py2.py3-none-any.whl (9.9 kB)\r\n"
     ]
    },
    {
     "name": "stdout",
     "output_type": "stream",
     "text": [
      "Installing collected packages: entrypoint2, easyprocess, pyunpack\r\n"
     ]
    },
    {
     "name": "stdout",
     "output_type": "stream",
     "text": [
      "Successfully installed easyprocess-1.1 entrypoint2-1.1 pyunpack-0.3\r\n"
     ]
    },
    {
     "name": "stdout",
     "output_type": "stream",
     "text": [
      "Collecting patool\r\n"
     ]
    },
    {
     "name": "stdout",
     "output_type": "stream",
     "text": [
      "  Downloading patool-2.2.0-py2.py3-none-any.whl.metadata (4.0 kB)\r\n",
      "Downloading patool-2.2.0-py2.py3-none-any.whl (96 kB)\r\n",
      "\u001b[?25l   \u001b[90m━━━━━━━━━━━━━━━━━━━━━━━━━━━━━━━━━━━━━━━━\u001b[0m \u001b[32m0.0/96.0 kB\u001b[0m \u001b[31m?\u001b[0m eta \u001b[36m-:--:--\u001b[0m"
     ]
    },
    {
     "name": "stdout",
     "output_type": "stream",
     "text": [
      "\r",
      "\u001b[2K   \u001b[90m━━━━━━━━━━━━━━━━━━━━━━━━━━━━━━━━━━━━━━━━\u001b[0m \u001b[32m96.0/96.0 kB\u001b[0m \u001b[31m5.5 MB/s\u001b[0m eta \u001b[36m0:00:00\u001b[0m\r\n",
      "\u001b[?25h"
     ]
    },
    {
     "name": "stdout",
     "output_type": "stream",
     "text": [
      "Installing collected packages: patool\r\n"
     ]
    },
    {
     "name": "stdout",
     "output_type": "stream",
     "text": [
      "Successfully installed patool-2.2.0\r\n"
     ]
    }
   ],
   "source": [
    "# Explode latest database file\n",
    "!pip install pyunpack\n",
    "!pip install patool\n",
    "from pyunpack import Archive\n",
    "Archive(db_filename).extractall(\".\")"
   ]
  },
  {
   "cell_type": "code",
   "execution_count": 5,
   "metadata": {
    "execution": {
     "iopub.execute_input": "2024-04-16T22:20:59.600467Z",
     "iopub.status.busy": "2024-04-16T22:20:59.600006Z",
     "iopub.status.idle": "2024-04-16T22:21:00.668025Z",
     "shell.execute_reply": "2024-04-16T22:21:00.667502Z"
    },
    "id": "f5_m8d2fx8cR"
   },
   "outputs": [],
   "source": [
    "# Create connection to database\n",
    "import sqlite3\n",
    "import pandas as pd\n",
    "global CONN\n",
    "database_file = os.path.basename(db_filename).split(\".\")[0]+\".db\"\n",
    "CONN = sqlite3.connect(database_file)"
   ]
  },
  {
   "cell_type": "code",
   "execution_count": 6,
   "metadata": {
    "colab": {
     "base_uri": "https://localhost:8080/"
    },
    "execution": {
     "iopub.execute_input": "2024-04-16T22:21:00.670765Z",
     "iopub.status.busy": "2024-04-16T22:21:00.670263Z",
     "iopub.status.idle": "2024-04-16T22:21:00.673465Z",
     "shell.execute_reply": "2024-04-16T22:21:00.672918Z"
    },
    "id": "dYEKRwZgADYc",
    "outputId": "9a26734c-b22e-4631-f00a-95ace89dba2f"
   },
   "outputs": [
    {
     "name": "stdout",
     "output_type": "stream",
     "text": [
      "SELECT BIOG_MAIN.c_personid as person_id, BIOG_MAIN.c_name_chn as person_name, \n",
      "CASE\n",
      "    WHEN BIOG_MAIN.c_female= 0 THEN '男'\n",
      "    WHEN BIOG_MAIN.c_female<> 0 THEN '女'\n",
      "END as gender,\n",
      "BIOG_MAIN.c_birthyear as born_year, BIOG_MAIN.c_deathyear as died_year, DYNASTIES.c_dynasty_chn as dynasty, ADDR_CODES.c_name_chn as jiguan\n",
      "FROM BIOG_MAIN LEFT JOIN ADDR_CODES ON BIOG_MAIN.c_index_addr_id = ADDR_CODES.c_addr_id LEFT JOIN DYNASTIES ON DYNASTIES.c_dy = BIOG_MAIN.c_dy\n",
      "WHERE c_personid != 0\n"
     ]
    }
   ],
   "source": [
    "print(sql_query)"
   ]
  },
  {
   "cell_type": "code",
   "execution_count": 7,
   "metadata": {
    "colab": {
     "base_uri": "https://localhost:8080/",
     "height": 424
    },
    "execution": {
     "iopub.execute_input": "2024-04-16T22:21:00.675501Z",
     "iopub.status.busy": "2024-04-16T22:21:00.675180Z",
     "iopub.status.idle": "2024-04-16T22:21:05.430510Z",
     "shell.execute_reply": "2024-04-16T22:21:05.429885Z"
    },
    "id": "TCgPf2Cex-kV",
    "outputId": "5e7652b8-387e-486e-bb67-6c83df132f09"
   },
   "outputs": [
    {
     "data": {
      "text/html": [
       "<div>\n",
       "<style scoped>\n",
       "    .dataframe tbody tr th:only-of-type {\n",
       "        vertical-align: middle;\n",
       "    }\n",
       "\n",
       "    .dataframe tbody tr th {\n",
       "        vertical-align: top;\n",
       "    }\n",
       "\n",
       "    .dataframe thead th {\n",
       "        text-align: right;\n",
       "    }\n",
       "</style>\n",
       "<table border=\"1\" class=\"dataframe\">\n",
       "  <thead>\n",
       "    <tr style=\"text-align: right;\">\n",
       "      <th></th>\n",
       "      <th>person_id</th>\n",
       "      <th>person_name</th>\n",
       "      <th>gender</th>\n",
       "      <th>born_year</th>\n",
       "      <th>died_year</th>\n",
       "      <th>dynasty</th>\n",
       "      <th>jiguan</th>\n",
       "    </tr>\n",
       "  </thead>\n",
       "  <tbody>\n",
       "    <tr>\n",
       "      <th>0</th>\n",
       "      <td>1</td>\n",
       "      <td>安惇</td>\n",
       "      <td>男</td>\n",
       "      <td>1042</td>\n",
       "      <td>1104</td>\n",
       "      <td>宋</td>\n",
       "      <td></td>\n",
       "    </tr>\n",
       "    <tr>\n",
       "      <th>1</th>\n",
       "      <td>2</td>\n",
       "      <td>安邡</td>\n",
       "      <td>男</td>\n",
       "      <td>0</td>\n",
       "      <td>0</td>\n",
       "      <td>宋</td>\n",
       "      <td>渠江</td>\n",
       "    </tr>\n",
       "    <tr>\n",
       "      <th>2</th>\n",
       "      <td>3</td>\n",
       "      <td>安燾</td>\n",
       "      <td>男</td>\n",
       "      <td></td>\n",
       "      <td></td>\n",
       "      <td>宋</td>\n",
       "      <td>開封</td>\n",
       "    </tr>\n",
       "    <tr>\n",
       "      <th>3</th>\n",
       "      <td>4</td>\n",
       "      <td>查道</td>\n",
       "      <td>男</td>\n",
       "      <td>955</td>\n",
       "      <td>1018</td>\n",
       "      <td>宋</td>\n",
       "      <td>休寧</td>\n",
       "    </tr>\n",
       "    <tr>\n",
       "      <th>4</th>\n",
       "      <td>5</td>\n",
       "      <td>查籥</td>\n",
       "      <td>男</td>\n",
       "      <td>0</td>\n",
       "      <td>0</td>\n",
       "      <td>宋</td>\n",
       "      <td>江陵</td>\n",
       "    </tr>\n",
       "    <tr>\n",
       "      <th>...</th>\n",
       "      <td>...</td>\n",
       "      <td>...</td>\n",
       "      <td>...</td>\n",
       "      <td>...</td>\n",
       "      <td>...</td>\n",
       "      <td>...</td>\n",
       "      <td>...</td>\n",
       "    </tr>\n",
       "    <tr>\n",
       "      <th>535175</th>\n",
       "      <td>576608</td>\n",
       "      <td>釋道常</td>\n",
       "      <td>男</td>\n",
       "      <td></td>\n",
       "      <td></td>\n",
       "      <td>宋</td>\n",
       "      <td></td>\n",
       "    </tr>\n",
       "    <tr>\n",
       "      <th>535176</th>\n",
       "      <td>576609</td>\n",
       "      <td>李奎</td>\n",
       "      <td>男</td>\n",
       "      <td></td>\n",
       "      <td></td>\n",
       "      <td>宋</td>\n",
       "      <td></td>\n",
       "    </tr>\n",
       "    <tr>\n",
       "      <th>535177</th>\n",
       "      <td>576610</td>\n",
       "      <td>李奎</td>\n",
       "      <td>男</td>\n",
       "      <td></td>\n",
       "      <td></td>\n",
       "      <td>宋</td>\n",
       "      <td></td>\n",
       "    </tr>\n",
       "    <tr>\n",
       "      <th>535178</th>\n",
       "      <td>576611</td>\n",
       "      <td>許宗翰</td>\n",
       "      <td>男</td>\n",
       "      <td></td>\n",
       "      <td></td>\n",
       "      <td></td>\n",
       "      <td>歙縣</td>\n",
       "    </tr>\n",
       "    <tr>\n",
       "      <th>535179</th>\n",
       "      <td>576612</td>\n",
       "      <td>陳嘉言</td>\n",
       "      <td>男</td>\n",
       "      <td></td>\n",
       "      <td></td>\n",
       "      <td>宋</td>\n",
       "      <td>晉江</td>\n",
       "    </tr>\n",
       "  </tbody>\n",
       "</table>\n",
       "<p>535180 rows × 7 columns</p>\n",
       "</div>"
      ],
      "text/plain": [
       "        person_id person_name gender born_year died_year dynasty jiguan\n",
       "0               1          安惇      男      1042      1104       宋       \n",
       "1               2          安邡      男         0         0       宋     渠江\n",
       "2               3          安燾      男                           宋     開封\n",
       "3               4          查道      男       955      1018       宋     休寧\n",
       "4               5          查籥      男         0         0       宋     江陵\n",
       "...           ...         ...    ...       ...       ...     ...    ...\n",
       "535175     576608         釋道常      男                           宋       \n",
       "535176     576609          李奎      男                           宋       \n",
       "535177     576610          李奎      男                           宋       \n",
       "535178     576611         許宗翰      男                                 歙縣\n",
       "535179     576612         陳嘉言      男                           宋     晉江\n",
       "\n",
       "[535180 rows x 7 columns]"
      ]
     },
     "execution_count": 7,
     "metadata": {},
     "output_type": "execute_result"
    }
   ],
   "source": [
    "data_pd = pd.read_sql_query(sql_query, CONN).drop_duplicates()\n",
    "data_pd['born_year'] = data_pd['born_year'].fillna(9999).astype(int)\n",
    "data_pd['died_year'] = data_pd['died_year'].fillna(9999).astype(int)\n",
    "data_pd = data_pd.replace({'\\\",\\n': ''}, regex=True).replace({'.*未詳.*': ''}, regex=True).replace(9999,'')\n",
    "data_pd.fillna('')"
   ]
  },
  {
   "cell_type": "code",
   "execution_count": 8,
   "metadata": {
    "execution": {
     "iopub.execute_input": "2024-04-16T22:21:05.432905Z",
     "iopub.status.busy": "2024-04-16T22:21:05.432565Z",
     "iopub.status.idle": "2024-04-16T22:21:06.203130Z",
     "shell.execute_reply": "2024-04-16T22:21:06.202494Z"
    },
    "id": "N3tRcU0dADYd"
   },
   "outputs": [],
   "source": [
    "data_pd.to_csv('data.csv', index=True, index_label='primary_id')\n",
    "if os.path.isfile(db_filename):\n",
    "    os.remove(db_filename)\n",
    "\n",
    "if os.path.isfile(db_filename.split(\".\")[0] + \".db\"):\n",
    "    os.remove(db_filename.split(\".\")[0] + \".db\")"
   ]
  }
 ],
 "metadata": {
  "colab": {
   "provenance": []
  },
  "kernelspec": {
   "display_name": "Python 3",
   "name": "python3"
  },
  "language_info": {
   "codemirror_mode": {
    "name": "ipython",
    "version": 3
   },
   "file_extension": ".py",
   "mimetype": "text/x-python",
   "name": "python",
   "nbconvert_exporter": "python",
   "pygments_lexer": "ipython3",
   "version": "3.11.9"
  }
 },
 "nbformat": 4,
 "nbformat_minor": 0
}
